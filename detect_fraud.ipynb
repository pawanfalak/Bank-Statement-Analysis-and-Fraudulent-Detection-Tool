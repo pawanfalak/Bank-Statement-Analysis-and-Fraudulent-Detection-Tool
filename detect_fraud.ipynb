{
 "cells": [
  {
   "cell_type": "code",
   "execution_count": 13,
   "metadata": {},
   "outputs": [],
   "source": [
    "import pandas as pd"
   ]
  },
  {
   "cell_type": "code",
   "execution_count": 16,
   "metadata": {},
   "outputs": [],
   "source": [
    "bank = pd.read_csv('Data/bank3.csv')"
   ]
  },
  {
   "cell_type": "code",
   "execution_count": 12,
   "metadata": {},
   "outputs": [
    {
     "data": {
      "text/html": [
       "<div>\n",
       "<style scoped>\n",
       "    .dataframe tbody tr th:only-of-type {\n",
       "        vertical-align: middle;\n",
       "    }\n",
       "\n",
       "    .dataframe tbody tr th {\n",
       "        vertical-align: top;\n",
       "    }\n",
       "\n",
       "    .dataframe thead th {\n",
       "        text-align: right;\n",
       "    }\n",
       "</style>\n",
       "<table border=\"1\" class=\"dataframe\">\n",
       "  <thead>\n",
       "    <tr style=\"text-align: right;\">\n",
       "      <th></th>\n",
       "      <th>Account No</th>\n",
       "      <th>DATE</th>\n",
       "      <th>TRANSACTION DETAILS</th>\n",
       "      <th>CHQ.NO.</th>\n",
       "      <th>VALUE DATE</th>\n",
       "      <th>WITHDRAWAL AMT</th>\n",
       "      <th>DEPOSIT AMT</th>\n",
       "      <th>BALANCE AMT</th>\n",
       "      <th>A</th>\n",
       "      <th>B</th>\n",
       "      <th>C</th>\n",
       "      <th>D</th>\n",
       "      <th>E</th>\n",
       "    </tr>\n",
       "  </thead>\n",
       "  <tbody>\n",
       "    <tr>\n",
       "      <th>0</th>\n",
       "      <td>409000611074</td>\n",
       "      <td>2017-06-29</td>\n",
       "      <td>TRF FROM  Indiaforensic SERVICES</td>\n",
       "      <td>NaN</td>\n",
       "      <td>2017-06-29</td>\n",
       "      <td>NaN</td>\n",
       "      <td>1000000.0</td>\n",
       "      <td>1000000.0</td>\n",
       "      <td>indiaforensic</td>\n",
       "      <td>0.0</td>\n",
       "      <td>0.0</td>\n",
       "      <td>0.0</td>\n",
       "      <td>0.0</td>\n",
       "    </tr>\n",
       "    <tr>\n",
       "      <th>1</th>\n",
       "      <td>409000611074</td>\n",
       "      <td>2017-07-05</td>\n",
       "      <td>TRF FROM  Indiaforensic SERVICES</td>\n",
       "      <td>NaN</td>\n",
       "      <td>2017-07-05</td>\n",
       "      <td>NaN</td>\n",
       "      <td>1000000.0</td>\n",
       "      <td>2000000.0</td>\n",
       "      <td>indiaforensic</td>\n",
       "      <td>0.0</td>\n",
       "      <td>0.0</td>\n",
       "      <td>0.0</td>\n",
       "      <td>0.0</td>\n",
       "    </tr>\n",
       "    <tr>\n",
       "      <th>2</th>\n",
       "      <td>409000611074</td>\n",
       "      <td>2017-07-18</td>\n",
       "      <td>FDRL/INTERNAL FUND TRANSFE</td>\n",
       "      <td>NaN</td>\n",
       "      <td>2017-07-18</td>\n",
       "      <td>NaN</td>\n",
       "      <td>500000.0</td>\n",
       "      <td>2500000.0</td>\n",
       "      <td>fdrl</td>\n",
       "      <td>0.0</td>\n",
       "      <td>internal</td>\n",
       "      <td>0.0</td>\n",
       "      <td>0.0</td>\n",
       "    </tr>\n",
       "    <tr>\n",
       "      <th>3</th>\n",
       "      <td>409000611074</td>\n",
       "      <td>2017-08-01</td>\n",
       "      <td>TRF FRM  Indiaforensic SERVICES</td>\n",
       "      <td>NaN</td>\n",
       "      <td>2017-08-01</td>\n",
       "      <td>NaN</td>\n",
       "      <td>3000000.0</td>\n",
       "      <td>5500000.0</td>\n",
       "      <td>indiaforensic</td>\n",
       "      <td>0.0</td>\n",
       "      <td>0.0</td>\n",
       "      <td>0.0</td>\n",
       "      <td>0.0</td>\n",
       "    </tr>\n",
       "    <tr>\n",
       "      <th>4</th>\n",
       "      <td>409000611074</td>\n",
       "      <td>2017-08-16</td>\n",
       "      <td>FDRL/INTERNAL FUND TRANSFE</td>\n",
       "      <td>NaN</td>\n",
       "      <td>2017-08-16</td>\n",
       "      <td>NaN</td>\n",
       "      <td>500000.0</td>\n",
       "      <td>6000000.0</td>\n",
       "      <td>fdrl</td>\n",
       "      <td>0.0</td>\n",
       "      <td>internal</td>\n",
       "      <td>0.0</td>\n",
       "      <td>0.0</td>\n",
       "    </tr>\n",
       "  </tbody>\n",
       "</table>\n",
       "</div>"
      ],
      "text/plain": [
       "     Account No        DATE               TRANSACTION DETAILS  CHQ.NO.  \\\n",
       "0  409000611074  2017-06-29  TRF FROM  Indiaforensic SERVICES      NaN   \n",
       "1  409000611074  2017-07-05  TRF FROM  Indiaforensic SERVICES      NaN   \n",
       "2  409000611074  2017-07-18        FDRL/INTERNAL FUND TRANSFE      NaN   \n",
       "3  409000611074  2017-08-01   TRF FRM  Indiaforensic SERVICES      NaN   \n",
       "4  409000611074  2017-08-16        FDRL/INTERNAL FUND TRANSFE      NaN   \n",
       "\n",
       "   VALUE DATE  WITHDRAWAL AMT  DEPOSIT AMT  BALANCE AMT              A    B  \\\n",
       "0  2017-06-29             NaN    1000000.0    1000000.0  indiaforensic  0.0   \n",
       "1  2017-07-05             NaN    1000000.0    2000000.0  indiaforensic  0.0   \n",
       "2  2017-07-18             NaN     500000.0    2500000.0           fdrl  0.0   \n",
       "3  2017-08-01             NaN    3000000.0    5500000.0  indiaforensic  0.0   \n",
       "4  2017-08-16             NaN     500000.0    6000000.0           fdrl  0.0   \n",
       "\n",
       "          C    D    E  \n",
       "0       0.0  0.0  0.0  \n",
       "1       0.0  0.0  0.0  \n",
       "2  internal  0.0  0.0  \n",
       "3       0.0  0.0  0.0  \n",
       "4  internal  0.0  0.0  "
      ]
     },
     "execution_count": 12,
     "metadata": {},
     "output_type": "execute_result"
    }
   ],
   "source": [
    "bank.head()"
   ]
  },
  {
   "cell_type": "code",
   "execution_count": 3,
   "metadata": {},
   "outputs": [],
   "source": [
    "bank.drop([\"A\", \"B\", \"C\", \"D\", \"E\"], axis=1, inplace=True)\n",
    "bank.drop([\"CHQ.NO.\"], axis=1, inplace=True)"
   ]
  },
  {
   "cell_type": "code",
   "execution_count": 4,
   "metadata": {
    "scrolled": true
   },
   "outputs": [
    {
     "data": {
      "text/html": [
       "<div>\n",
       "<style scoped>\n",
       "    .dataframe tbody tr th:only-of-type {\n",
       "        vertical-align: middle;\n",
       "    }\n",
       "\n",
       "    .dataframe tbody tr th {\n",
       "        vertical-align: top;\n",
       "    }\n",
       "\n",
       "    .dataframe thead th {\n",
       "        text-align: right;\n",
       "    }\n",
       "</style>\n",
       "<table border=\"1\" class=\"dataframe\">\n",
       "  <thead>\n",
       "    <tr style=\"text-align: right;\">\n",
       "      <th></th>\n",
       "      <th>Account No</th>\n",
       "      <th>DATE</th>\n",
       "      <th>TRANSACTION DETAILS</th>\n",
       "      <th>VALUE DATE</th>\n",
       "      <th>WITHDRAWAL AMT</th>\n",
       "      <th>DEPOSIT AMT</th>\n",
       "      <th>BALANCE AMT</th>\n",
       "    </tr>\n",
       "  </thead>\n",
       "  <tbody>\n",
       "    <tr>\n",
       "      <th>0</th>\n",
       "      <td>409000611074</td>\n",
       "      <td>2017-06-29</td>\n",
       "      <td>TRF FROM  Indiaforensic SERVICES</td>\n",
       "      <td>2017-06-29</td>\n",
       "      <td>NaN</td>\n",
       "      <td>1000000.0</td>\n",
       "      <td>1000000.0</td>\n",
       "    </tr>\n",
       "    <tr>\n",
       "      <th>1</th>\n",
       "      <td>409000611074</td>\n",
       "      <td>2017-07-05</td>\n",
       "      <td>TRF FROM  Indiaforensic SERVICES</td>\n",
       "      <td>2017-07-05</td>\n",
       "      <td>NaN</td>\n",
       "      <td>1000000.0</td>\n",
       "      <td>2000000.0</td>\n",
       "    </tr>\n",
       "    <tr>\n",
       "      <th>2</th>\n",
       "      <td>409000611074</td>\n",
       "      <td>2017-07-18</td>\n",
       "      <td>FDRL/INTERNAL FUND TRANSFE</td>\n",
       "      <td>2017-07-18</td>\n",
       "      <td>NaN</td>\n",
       "      <td>500000.0</td>\n",
       "      <td>2500000.0</td>\n",
       "    </tr>\n",
       "    <tr>\n",
       "      <th>3</th>\n",
       "      <td>409000611074</td>\n",
       "      <td>2017-08-01</td>\n",
       "      <td>TRF FRM  Indiaforensic SERVICES</td>\n",
       "      <td>2017-08-01</td>\n",
       "      <td>NaN</td>\n",
       "      <td>3000000.0</td>\n",
       "      <td>5500000.0</td>\n",
       "    </tr>\n",
       "    <tr>\n",
       "      <th>4</th>\n",
       "      <td>409000611074</td>\n",
       "      <td>2017-08-16</td>\n",
       "      <td>FDRL/INTERNAL FUND TRANSFE</td>\n",
       "      <td>2017-08-16</td>\n",
       "      <td>NaN</td>\n",
       "      <td>500000.0</td>\n",
       "      <td>6000000.0</td>\n",
       "    </tr>\n",
       "  </tbody>\n",
       "</table>\n",
       "</div>"
      ],
      "text/plain": [
       "     Account No        DATE               TRANSACTION DETAILS  VALUE DATE  \\\n",
       "0  409000611074  2017-06-29  TRF FROM  Indiaforensic SERVICES  2017-06-29   \n",
       "1  409000611074  2017-07-05  TRF FROM  Indiaforensic SERVICES  2017-07-05   \n",
       "2  409000611074  2017-07-18        FDRL/INTERNAL FUND TRANSFE  2017-07-18   \n",
       "3  409000611074  2017-08-01   TRF FRM  Indiaforensic SERVICES  2017-08-01   \n",
       "4  409000611074  2017-08-16        FDRL/INTERNAL FUND TRANSFE  2017-08-16   \n",
       "\n",
       "   WITHDRAWAL AMT  DEPOSIT AMT  BALANCE AMT  \n",
       "0             NaN    1000000.0    1000000.0  \n",
       "1             NaN    1000000.0    2000000.0  \n",
       "2             NaN     500000.0    2500000.0  \n",
       "3             NaN    3000000.0    5500000.0  \n",
       "4             NaN     500000.0    6000000.0  "
      ]
     },
     "execution_count": 4,
     "metadata": {},
     "output_type": "execute_result"
    }
   ],
   "source": [
    "# Value date : Date of completion\n",
    "# Date : Inititation\n",
    "bank.head()"
   ]
  },
  {
   "cell_type": "code",
   "execution_count": 5,
   "metadata": {},
   "outputs": [],
   "source": [
    "df_acc1 = bank[bank[\"Account No\"] == 409000611074]"
   ]
  },
  {
   "cell_type": "code",
   "execution_count": 19,
   "metadata": {},
   "outputs": [],
   "source": [
    "# df_acc1.head()\n",
    "df_acc1.to_html('temp2.html', notebook=True)"
   ]
  },
  {
   "cell_type": "code",
   "execution_count": 7,
   "metadata": {},
   "outputs": [
    {
     "name": "stderr",
     "output_type": "stream",
     "text": [
      "/home/apoorv/anaconda3/lib/python3.7/site-packages/fuzzywuzzy/fuzz.py:11: UserWarning: Using slow pure-python SequenceMatcher. Install python-Levenshtein to remove this warning\n",
      "  warnings.warn('Using slow pure-python SequenceMatcher. Install python-Levenshtein to remove this warning')\n"
     ]
    }
   ],
   "source": [
    "from fuzzywuzzy import fuzz\n",
    "\n",
    "# Returns a dataframe object consisting of matching narrations \n",
    "def seq_match(df_temp, trans_details):\n",
    "    \n",
    "    df_temp.reset_index(inplace=True, drop=True)\n",
    "\n",
    "    df_res = []\n",
    "    for i, (x, y) in enumerate(df_temp.iterrows()):\n",
    "        # Considered threshold : 30\n",
    "        if fuzz.ratio(trans_details, df_temp.loc[i, \"TRANSACTION DETAILS\"]) > 30:\n",
    "            df_res.append(df_temp.loc[i]) \n",
    "            \n",
    "    return pd.DataFrame(df_res) \n",
    "\n",
    "\n",
    "# For testing purposes, considered a sample transaction narration\n",
    "# trans_details = \"TRF FROM Indiaforensic SERVICES\"\n",
    "# res = seq_match(df_acc1, trans_details)\n",
    "# res.head()"
   ]
  },
  {
   "cell_type": "code",
   "execution_count": 30,
   "metadata": {
    "scrolled": false
   },
   "outputs": [
    {
     "name": "stdout",
     "output_type": "stream",
     "text": [
      "[409000611074 409000493201 409000425051 409000405747 409000438611\n",
      " 409000493210 409000438620      1196711      1196428 409000362497]\n"
     ]
    }
   ],
   "source": [
    "# ###################### Testing ######################\n",
    "# for x in res['TRANSACTION DETAILS']:\n",
    "#     print(x)\n",
    "\n",
    "account_list = bank[\"Account No\"].unique()\n",
    "print(account_list)\n",
    "# df_acc1 = bank[bank[\"Account No\"] == 409000362497]\n",
    "# df_acc1.reset_index(inplace=True)"
   ]
  },
  {
   "cell_type": "code",
   "execution_count": 78,
   "metadata": {},
   "outputs": [],
   "source": [
    "# Subset sum algorithm\n",
    "def subsetsum(array, num):\n",
    "\n",
    "    if num == 0 or num < 1:\n",
    "        return []\n",
    "    elif len(array) == 0:\n",
    "        return []\n",
    "    else:\n",
    "        if array[0] == num:\n",
    "            return [array[0]]\n",
    "        else:\n",
    "            with_v = subsetsum(array[1:],(num - array[0])) \n",
    "            if with_v:\n",
    "                return [array[0]] + with_v\n",
    "            else:\n",
    "\n",
    "                return subsetsum(array[1:],num)"
   ]
  },
  {
   "cell_type": "code",
   "execution_count": 21,
   "metadata": {
    "scrolled": true
   },
   "outputs": [
    {
     "name": "stdout",
     "output_type": "stream",
     "text": [
      "28000\n",
      "29000\n",
      "30000\n",
      "31000\n",
      "32000\n",
      "33000\n",
      "34000\n",
      "35000\n",
      "36000\n",
      "37000\n"
     ]
    }
   ],
   "source": [
    "# ###################### Detecting bogus transactions ######################\n",
    "\n",
    "# [409000611074 409000493201 409000425051 409000405747 409000438611\n",
    "#  409000493210 409000438620      1196711      1196428 409000362497]\n",
    "\n",
    "ctr = 0\n",
    "# 1. 409000611074\n",
    "# 2. 409000493201\n",
    "# 3. 409000425051\n",
    "# 4. 409000405747\n",
    "# 5. 409000438611 - Bogus\n",
    "# 6. 409000493210 - Bogus\n",
    "# 7. 409000438620 - Bogus\n",
    "# 8. 1196711 - Bogus bc\n",
    "# 9. 1196428 - Bogus\n",
    "# 10. 409000362497 - Bogus\n",
    "\n",
    "df_acc1 = bank[bank[\"Account No\"] == 1196711]\n",
    "df_res = []\n",
    "\n",
    "for (index, row) in df_acc1.iterrows():\n",
    "    \n",
    "    if index % 1000 == 0:\n",
    "        print(index)\n",
    "    \n",
    "    if row[\"DEPOSIT AMT\"] >= 0:\n",
    "        acc_no = row[\"Account No\"]\n",
    "        date = row[\"VALUE DATE\"]\n",
    "        deposit_amt = row[\"DEPOSIT AMT\"]\n",
    "        trans_details = row[\"TRANSACTION DETAILS\"]\n",
    "        \n",
    "        df_temp =\\\n",
    "            df_acc1[(df_acc1[\"Account No\"] == acc_no) & (df_acc1[\"VALUE DATE\"] == date) & (df_acc1[\"WITHDRAWAL AMT\"] >= 0)]\n",
    "    \n",
    "        df_temp_res = seq_match(df_temp, trans_details)        \n",
    "        \n",
    "        if not df_temp_res.empty:        \n",
    "            withdrawal_amt = list(df_temp_res[\"WITHDRAWAL AMT\"])\n",
    "            subset =  subsetsum(withdrawal_amt, deposit_amt)\n",
    "            if len(subset) > 1:\n",
    "                df_res.append([trans_details, date, deposit_amt, subset])\n",
    "                \n",
    "\n",
    "df_res = pd.DataFrame(df_res, columns=['Transaction Details', 'Date', 'Deposit Amount', 'Withdrawal Subset'])\n",
    "df_res.to_html('result.html')\n",
    "#                 print(\"***************************************\")\n",
    "#                 print(f\"Deposit Amount {deposit_amt}\")\n",
    "#                 print(f\"Withdrawal Amount : {subset}\")\n",
    "#                 print(f\"Date {date}\")\n",
    "#                 print(f\"Transaction Details {trans_details}\")\n",
    "#                 print(\"***************************************\")                \n",
    "            "
   ]
  },
  {
   "cell_type": "markdown",
   "metadata": {},
   "source": [
    "### Checking out different string sequence matching tools"
   ]
  },
  {
   "cell_type": "code",
   "execution_count": 17,
   "metadata": {},
   "outputs": [],
   "source": [
    "from difflib import SequenceMatcher\n",
    "\n",
    "def similar(a, b):\n",
    "    return SequenceMatcher(None, a, b).ratio()"
   ]
  },
  {
   "cell_type": "code",
   "execution_count": 29,
   "metadata": {},
   "outputs": [
    {
     "data": {
      "text/plain": [
       "0.7857142857142857"
      ]
     },
     "execution_count": 29,
     "metadata": {},
     "output_type": "execute_result"
    }
   ],
   "source": [
    "similar(bank.loc[116172][\"TRANSACTION DETAILS\"], bank.loc[116174][\"TRANSACTION DETAILS\"])"
   ]
  },
  {
   "cell_type": "code",
   "execution_count": 31,
   "metadata": {},
   "outputs": [
    {
     "name": "stdout",
     "output_type": "stream",
     "text": [
      "79\n"
     ]
    }
   ],
   "source": [
    "from fuzzywuzzy import fuzz\n",
    "\n",
    "print(fuzz.ratio(bank.loc[116172][\"TRANSACTION DETAILS\"], bank.loc[116174][\"TRANSACTION DETAILS\"]))"
   ]
  }
 ],
 "metadata": {
  "kernelspec": {
   "display_name": "Python 3",
   "language": "python",
   "name": "python3"
  },
  "language_info": {
   "codemirror_mode": {
    "name": "ipython",
    "version": 3
   },
   "file_extension": ".py",
   "mimetype": "text/x-python",
   "name": "python",
   "nbconvert_exporter": "python",
   "pygments_lexer": "ipython3",
   "version": "3.7.3"
  }
 },
 "nbformat": 4,
 "nbformat_minor": 2
}
